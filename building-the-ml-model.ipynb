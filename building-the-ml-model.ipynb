{
 "cells": [
  {
   "cell_type": "markdown",
   "id": "b3218827",
   "metadata": {
    "papermill": {
     "duration": 0.004334,
     "end_time": "2022-06-02T20:03:15.900037",
     "exception": false,
     "start_time": "2022-06-02T20:03:15.895703",
     "status": "completed"
    },
    "tags": []
   },
   "source": [
    "# Constructing Machine Learning Models From Scratch"
   ]
  },
  {
   "cell_type": "markdown",
   "id": "bde9e6a2",
   "metadata": {
    "papermill": {
     "duration": 0.003158,
     "end_time": "2022-06-02T20:03:15.909094",
     "exception": false,
     "start_time": "2022-06-02T20:03:15.905936",
     "status": "completed"
    },
    "tags": []
   },
   "source": [
    "> In this notebook we will be building the ML models from the scratch and we will race it aganist the different prebuilt model , already present in the library."
   ]
  },
  {
   "cell_type": "markdown",
   "id": "a84e3000",
   "metadata": {
    "papermill": {
     "duration": 0.003188,
     "end_time": "2022-06-02T20:03:15.916127",
     "exception": false,
     "start_time": "2022-06-02T20:03:15.912939",
     "status": "completed"
    },
    "tags": []
   },
   "source": [
    "> > First we will start by building the logistic regression model"
   ]
  },
  {
   "cell_type": "markdown",
   "id": "a924a1f2",
   "metadata": {
    "papermill": {
     "duration": 0.003076,
     "end_time": "2022-06-02T20:03:15.922676",
     "exception": false,
     "start_time": "2022-06-02T20:03:15.919600",
     "status": "completed"
    },
    "tags": []
   },
   "source": [
    "> > > we will start by loading the dataset "
   ]
  },
  {
   "cell_type": "markdown",
   "id": "0ef7261c",
   "metadata": {
    "papermill": {
     "duration": 0.003039,
     "end_time": "2022-06-02T20:03:15.929057",
     "exception": false,
     "start_time": "2022-06-02T20:03:15.926018",
     "status": "completed"
    },
    "tags": []
   },
   "source": [
    "Let's see some of the dataset information and what is our goal regarding it.\n",
    "1. Two Classes: Low Workload versus Medium Workload\n",
    "2. Number of Samples: 180 for each class\n",
    "3. Sampling Rate: 256Hz"
   ]
  },
  {
   "cell_type": "markdown",
   "id": "5334ba05",
   "metadata": {
    "papermill": {
     "duration": 0.003361,
     "end_time": "2022-06-02T20:03:15.935674",
     "exception": false,
     "start_time": "2022-06-02T20:03:15.932313",
     "status": "completed"
    },
    "tags": []
   },
   "source": [
    "For each sample\n",
    "- Number of Channels: 62\n",
    "- Number of Data Points: 512\n",
    "Evaluation: You should use the five-Fold Cross-Validation to evaluate the classification performance."
   ]
  },
  {
   "cell_type": "code",
   "execution_count": 1,
   "id": "e4d73150",
   "metadata": {
    "execution": {
     "iopub.execute_input": "2022-06-02T20:03:15.944759Z",
     "iopub.status.busy": "2022-06-02T20:03:15.943919Z",
     "iopub.status.idle": "2022-06-02T20:03:16.097680Z",
     "shell.execute_reply": "2022-06-02T20:03:16.096840Z"
    },
    "papermill": {
     "duration": 0.161117,
     "end_time": "2022-06-02T20:03:16.100171",
     "exception": false,
     "start_time": "2022-06-02T20:03:15.939054",
     "status": "completed"
    },
    "tags": []
   },
   "outputs": [],
   "source": [
    "import scipy.io as io#importing the library to import the data"
   ]
  },
  {
   "cell_type": "code",
   "execution_count": 2,
   "id": "6f817d36",
   "metadata": {
    "execution": {
     "iopub.execute_input": "2022-06-02T20:03:16.108696Z",
     "iopub.status.busy": "2022-06-02T20:03:16.108313Z",
     "iopub.status.idle": "2022-06-02T20:03:17.251465Z",
     "shell.execute_reply": "2022-06-02T20:03:17.250734Z"
    },
    "papermill": {
     "duration": 1.150269,
     "end_time": "2022-06-02T20:03:17.254010",
     "exception": false,
     "start_time": "2022-06-02T20:03:16.103741",
     "status": "completed"
    },
    "tags": []
   },
   "outputs": [],
   "source": [
    "data = io.loadmat('../input/building-ml-models-from-scratch/WLDataCW.mat')#importing the data"
   ]
  },
  {
   "cell_type": "code",
   "execution_count": 3,
   "id": "dd4e93eb",
   "metadata": {
    "execution": {
     "iopub.execute_input": "2022-06-02T20:03:17.262935Z",
     "iopub.status.busy": "2022-06-02T20:03:17.262525Z",
     "iopub.status.idle": "2022-06-02T20:03:17.267631Z",
     "shell.execute_reply": "2022-06-02T20:03:17.266657Z"
    },
    "papermill": {
     "duration": 0.012534,
     "end_time": "2022-06-02T20:03:17.270342",
     "exception": false,
     "start_time": "2022-06-02T20:03:17.257808",
     "status": "completed"
    },
    "tags": []
   },
   "outputs": [
    {
     "name": "stdout",
     "output_type": "stream",
     "text": [
      "the length: 5\n"
     ]
    }
   ],
   "source": [
    "print('the length: '+ str(len(data)))#checking the number of keys"
   ]
  },
  {
   "cell_type": "code",
   "execution_count": 4,
   "id": "eb5db701",
   "metadata": {
    "execution": {
     "iopub.execute_input": "2022-06-02T20:03:17.279038Z",
     "iopub.status.busy": "2022-06-02T20:03:17.278641Z",
     "iopub.status.idle": "2022-06-02T20:03:17.284869Z",
     "shell.execute_reply": "2022-06-02T20:03:17.283852Z"
    },
    "papermill": {
     "duration": 0.013293,
     "end_time": "2022-06-02T20:03:17.287234",
     "exception": false,
     "start_time": "2022-06-02T20:03:17.273941",
     "status": "completed"
    },
    "tags": []
   },
   "outputs": [
    {
     "name": "stdout",
     "output_type": "stream",
     "text": [
      "dict_keys(['__header__', '__version__', '__globals__', 'data', 'label'])\n"
     ]
    }
   ],
   "source": [
    "print(data.keys())#show the names of the keys"
   ]
  },
  {
   "cell_type": "code",
   "execution_count": 5,
   "id": "2f54e710",
   "metadata": {
    "execution": {
     "iopub.execute_input": "2022-06-02T20:03:17.297360Z",
     "iopub.status.busy": "2022-06-02T20:03:17.296970Z",
     "iopub.status.idle": "2022-06-02T20:03:17.301690Z",
     "shell.execute_reply": "2022-06-02T20:03:17.300729Z"
    },
    "papermill": {
     "duration": 0.012631,
     "end_time": "2022-06-02T20:03:17.304654",
     "exception": false,
     "start_time": "2022-06-02T20:03:17.292023",
     "status": "completed"
    },
    "tags": []
   },
   "outputs": [
    {
     "name": "stdout",
     "output_type": "stream",
     "text": [
      "[]\n"
     ]
    }
   ],
   "source": [
    "print(data['__globals__'])"
   ]
  },
  {
   "cell_type": "code",
   "execution_count": 6,
   "id": "484abe3a",
   "metadata": {
    "execution": {
     "iopub.execute_input": "2022-06-02T20:03:17.314065Z",
     "iopub.status.busy": "2022-06-02T20:03:17.313081Z",
     "iopub.status.idle": "2022-06-02T20:03:17.317713Z",
     "shell.execute_reply": "2022-06-02T20:03:17.317073Z"
    },
    "papermill": {
     "duration": 0.011276,
     "end_time": "2022-06-02T20:03:17.319588",
     "exception": false,
     "start_time": "2022-06-02T20:03:17.308312",
     "status": "completed"
    },
    "tags": []
   },
   "outputs": [],
   "source": [
    "data_only = data[\"data\"]#assiging it to the new variable,\n",
    "\n",
    "#so here we are assigning the data variable from our main dataset to the new variable"
   ]
  },
  {
   "cell_type": "code",
   "execution_count": 7,
   "id": "ffe22bdf",
   "metadata": {
    "execution": {
     "iopub.execute_input": "2022-06-02T20:03:17.329544Z",
     "iopub.status.busy": "2022-06-02T20:03:17.328810Z",
     "iopub.status.idle": "2022-06-02T20:03:17.333380Z",
     "shell.execute_reply": "2022-06-02T20:03:17.332560Z"
    },
    "papermill": {
     "duration": 0.011576,
     "end_time": "2022-06-02T20:03:17.335323",
     "exception": false,
     "start_time": "2022-06-02T20:03:17.323747",
     "status": "completed"
    },
    "tags": []
   },
   "outputs": [],
   "source": [
    "label = data[\"label\"]#assigning the label to the new variable"
   ]
  },
  {
   "cell_type": "code",
   "execution_count": 8,
   "id": "8d8e573c",
   "metadata": {
    "execution": {
     "iopub.execute_input": "2022-06-02T20:03:17.344915Z",
     "iopub.status.busy": "2022-06-02T20:03:17.344520Z",
     "iopub.status.idle": "2022-06-02T20:03:17.349094Z",
     "shell.execute_reply": "2022-06-02T20:03:17.348114Z"
    },
    "papermill": {
     "duration": 0.013028,
     "end_time": "2022-06-02T20:03:17.352255",
     "exception": false,
     "start_time": "2022-06-02T20:03:17.339227",
     "status": "completed"
    },
    "tags": []
   },
   "outputs": [
    {
     "name": "stdout",
     "output_type": "stream",
     "text": [
      "(62, 512, 360)\n"
     ]
    }
   ],
   "source": [
    "print(data_only.shape)"
   ]
  },
  {
   "cell_type": "code",
   "execution_count": 9,
   "id": "d409f804",
   "metadata": {
    "execution": {
     "iopub.execute_input": "2022-06-02T20:03:17.361767Z",
     "iopub.status.busy": "2022-06-02T20:03:17.361084Z",
     "iopub.status.idle": "2022-06-02T20:03:17.366538Z",
     "shell.execute_reply": "2022-06-02T20:03:17.365425Z"
    },
    "papermill": {
     "duration": 0.012872,
     "end_time": "2022-06-02T20:03:17.369006",
     "exception": false,
     "start_time": "2022-06-02T20:03:17.356134",
     "status": "completed"
    },
    "tags": []
   },
   "outputs": [
    {
     "name": "stdout",
     "output_type": "stream",
     "text": [
      "(1, 360)\n"
     ]
    }
   ],
   "source": [
    "print(label.shape)"
   ]
  },
  {
   "cell_type": "markdown",
   "id": "154a68a9",
   "metadata": {
    "papermill": {
     "duration": 0.003437,
     "end_time": "2022-06-02T20:03:17.376803",
     "exception": false,
     "start_time": "2022-06-02T20:03:17.373366",
     "status": "completed"
    },
    "tags": []
   },
   "source": [
    "The dimension of the data is 62.512.360, where 62 is the number of channels, 512 is the data points for each sample, and 360 is the number of samples. In the variable label, 0 indicates the class of low workload and 1 indicates the class of medium workload"
   ]
  },
  {
   "cell_type": "code",
   "execution_count": null,
   "id": "5293a71b",
   "metadata": {
    "papermill": {
     "duration": 0.003424,
     "end_time": "2022-06-02T20:03:17.383834",
     "exception": false,
     "start_time": "2022-06-02T20:03:17.380410",
     "status": "completed"
    },
    "tags": []
   },
   "outputs": [],
   "source": []
  }
 ],
 "metadata": {
  "kernelspec": {
   "display_name": "Python 3",
   "language": "python",
   "name": "python3"
  },
  "language_info": {
   "codemirror_mode": {
    "name": "ipython",
    "version": 3
   },
   "file_extension": ".py",
   "mimetype": "text/x-python",
   "name": "python",
   "nbconvert_exporter": "python",
   "pygments_lexer": "ipython3",
   "version": "3.7.12"
  },
  "papermill": {
   "default_parameters": {},
   "duration": 10.960039,
   "end_time": "2022-06-02T20:03:18.006880",
   "environment_variables": {},
   "exception": null,
   "input_path": "__notebook__.ipynb",
   "output_path": "__notebook__.ipynb",
   "parameters": {},
   "start_time": "2022-06-02T20:03:07.046841",
   "version": "2.3.4"
  }
 },
 "nbformat": 4,
 "nbformat_minor": 5
}
