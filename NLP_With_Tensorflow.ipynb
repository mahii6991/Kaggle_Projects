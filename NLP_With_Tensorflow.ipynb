{
  "nbformat": 4,
  "nbformat_minor": 0,
  "metadata": {
    "colab": {
      "name": "NLP With Tensorflow",
      "provenance": [],
      "authorship_tag": "ABX9TyOBYKtQ/VXt1AATmN0pacad",
      "include_colab_link": true
    },
    "kernelspec": {
      "name": "python3",
      "display_name": "Python 3"
    },
    "language_info": {
      "name": "python"
    }
  },
  "cells": [
    {
      "cell_type": "markdown",
      "metadata": {
        "id": "view-in-github",
        "colab_type": "text"
      },
      "source": [
        "<a href=\"https://colab.research.google.com/github/mahii6991/Kaggle_Projects/blob/main/NLP_With_Tensorflow.ipynb\" target=\"_parent\"><img src=\"https://colab.research.google.com/assets/colab-badge.svg\" alt=\"Open In Colab\"/></a>"
      ]
    },
    {
      "cell_type": "code",
      "execution_count": 30,
      "metadata": {
        "colab": {
          "base_uri": "https://localhost:8080/"
        },
        "id": "suqKpgKHTFwU",
        "outputId": "3bfef98a-ff07-446e-eb50-75b8e3ddec04"
      },
      "outputs": [
        {
          "output_type": "stream",
          "name": "stdout",
          "text": [
            "The version of tensorflow that we are using in this notebook is 2.8.2. \n"
          ]
        }
      ],
      "source": [
        "import tensorflow as tf\n",
        "from tensorflow import keras\n",
        "from tensorflow.keras.preprocessing.text import Tokenizer\n",
        "\n",
        "print(\"The version of tensorflow that we are using in this notebook is {}. \" .format(tf.__version__))"
      ]
    },
    {
      "cell_type": "markdown",
      "source": [
        "providing the sentence to train for the model"
      ],
      "metadata": {
        "id": "I_3cmCsuXTEX"
      }
    },
    {
      "cell_type": "code",
      "source": [
        "sentence = [\"Video shows how construction of Royal Caribbean cruise ship Utopia of the Seas is well under way\",\n",
        "            \"By gross tonnage, these behemoths are the five biggest cruise ships on the high seas ?\"]"
      ],
      "metadata": {
        "id": "rMbB4rK8W0o8"
      },
      "execution_count": 31,
      "outputs": []
    },
    {
      "cell_type": "code",
      "source": [
        "#at this point we are providing the values or assigning the values of the object token to the variable\n",
        "tokenizer = Tokenizer(num_words=100)\n",
        "#here we are fitting the model and saving the parameters into the object to do further analysis\n",
        "tokenizer.fit_on_texts(sentence)\n",
        "#we will going to create the dictionary of the above text\n",
        "word_index = tokenizer.word_index \n",
        "\n"
      ],
      "metadata": {
        "id": "IE6wsp4fYYXp"
      },
      "execution_count": 32,
      "outputs": []
    },
    {
      "cell_type": "code",
      "source": [
        "#we are getting the tokenized form of word embedding which can be seen here in the form word dicitonary pair , where each work is provided or assigned the number to it.\n",
        "print(\"we will going to print the dicitonary pair of the above sentence{}.\".format(print(word_index)))"
      ],
      "metadata": {
        "colab": {
          "base_uri": "https://localhost:8080/"
        },
        "id": "f5OadNJ7Zh7x",
        "outputId": "dcc1734c-7845-4c07-a5b0-b3f31ccd73c2"
      },
      "execution_count": 33,
      "outputs": [
        {
          "output_type": "stream",
          "name": "stdout",
          "text": [
            "{'the': 1, 'of': 2, 'cruise': 3, 'seas': 4, 'video': 5, 'shows': 6, 'how': 7, 'construction': 8, 'royal': 9, 'caribbean': 10, 'ship': 11, 'utopia': 12, 'is': 13, 'well': 14, 'under': 15, 'way': 16, 'by': 17, 'gross': 18, 'tonnage': 19, 'these': 20, 'behemoths': 21, 'are': 22, 'five': 23, 'biggest': 24, 'ships': 25, 'on': 26, 'high': 27}\n",
            "we will going to print the dicitonary pair of the above sentenceNone.\n"
          ]
        }
      ]
    },
    {
      "cell_type": "markdown",
      "source": [
        "Creating sequences of the data"
      ],
      "metadata": {
        "id": "bG7TIehya4jK"
      }
    },
    {
      "cell_type": "code",
      "source": [
        "sequences = tokenizer.texts_to_sequences(sentence)"
      ],
      "metadata": {
        "id": "uegDXmTQaOWR"
      },
      "execution_count": 34,
      "outputs": []
    },
    {
      "cell_type": "code",
      "source": [
        "print(f\"the index of the sentence is {word_index}\")\n",
        "print(f\"the squence of the sentence is {sequences}\")"
      ],
      "metadata": {
        "colab": {
          "base_uri": "https://localhost:8080/"
        },
        "id": "IKUqL3HIdZSe",
        "outputId": "b300af9e-6ae9-4cfe-de17-896fe841759f"
      },
      "execution_count": 35,
      "outputs": [
        {
          "output_type": "stream",
          "name": "stdout",
          "text": [
            "the index of the sentence is {'the': 1, 'of': 2, 'cruise': 3, 'seas': 4, 'video': 5, 'shows': 6, 'how': 7, 'construction': 8, 'royal': 9, 'caribbean': 10, 'ship': 11, 'utopia': 12, 'is': 13, 'well': 14, 'under': 15, 'way': 16, 'by': 17, 'gross': 18, 'tonnage': 19, 'these': 20, 'behemoths': 21, 'are': 22, 'five': 23, 'biggest': 24, 'ships': 25, 'on': 26, 'high': 27}\n",
            "the squence of the sentence is [[5, 6, 7, 8, 2, 9, 10, 3, 11, 12, 2, 1, 4, 13, 14, 15, 16], [17, 18, 19, 20, 21, 22, 1, 23, 24, 3, 25, 26, 1, 27, 4]]\n"
          ]
        }
      ]
    },
    {
      "cell_type": "code",
      "source": [
        "#checking our the sentences from only one statement\n",
        "print(sentence[0])\n",
        "print(sequences[0])"
      ],
      "metadata": {
        "colab": {
          "base_uri": "https://localhost:8080/"
        },
        "id": "1IYhK4jUd0wO",
        "outputId": "db102f10-c346-4815-d29e-02e4a33d3513"
      },
      "execution_count": 36,
      "outputs": [
        {
          "output_type": "stream",
          "name": "stdout",
          "text": [
            "Video shows how construction of Royal Caribbean cruise ship Utopia of the Seas is well under way\n",
            "[5, 6, 7, 8, 2, 9, 10, 3, 11, 12, 2, 1, 4, 13, 14, 15, 16]\n"
          ]
        }
      ]
    },
    {
      "cell_type": "markdown",
      "source": [
        "Tokenizing the new data with the same tokenizer"
      ],
      "metadata": {
        "id": "Szy4vKdHeVze"
      }
    },
    {
      "cell_type": "code",
      "source": [
        "#creating the list of new sentences\n",
        "new_sentences = [\"English text to sequcen converts input English text into a text which contains only alphabets\"\n",
        "\n",
        ",\"English text to sequcen converts input English text into a text which contains only alphabets\"]"
      ],
      "metadata": {
        "id": "zrpWs0SWeSwe"
      },
      "execution_count": 40,
      "outputs": []
    },
    {
      "cell_type": "code",
      "source": [
        "new_sequences = tokenizer.texts_to_sequences(new_sentences)"
      ],
      "metadata": {
        "id": "mZyYh8NdfSBf"
      },
      "execution_count": 41,
      "outputs": []
    },
    {
      "cell_type": "code",
      "source": [
        "#printing out the new data that we have already trained on the old models\n",
        "print(new_sentences)\n",
        "print(new_sequences)\n",
        "#though I am not receiving the required results that I wanted from the text so I will try to see why the trined tokenizer is not printing the data."
      ],
      "metadata": {
        "colab": {
          "base_uri": "https://localhost:8080/"
        },
        "id": "lxiZ7Rjgffk-",
        "outputId": "6727eed6-8eab-4229-9f17-71668bcf76f2"
      },
      "execution_count": 43,
      "outputs": [
        {
          "output_type": "stream",
          "name": "stdout",
          "text": [
            "['English text to sequcen converts input English text into a text which contains only alphabets', 'English text to sequcen converts input English text into a text which contains only alphabets']\n",
            "[[], []]\n"
          ]
        }
      ]
    },
    {
      "cell_type": "code",
      "source": [
        ""
      ],
      "metadata": {
        "id": "Qs_TjM-2gfE4"
      },
      "execution_count": null,
      "outputs": []
    }
  ]
}