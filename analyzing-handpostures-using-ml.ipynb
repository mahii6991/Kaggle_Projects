{
 "cells": [
  {
   "cell_type": "markdown",
   "id": "c9e3adf3",
   "metadata": {
    "papermill": {
     "duration": 0.004866,
     "end_time": "2022-07-10T12:19:50.369849",
     "exception": false,
     "start_time": "2022-07-10T12:19:50.364983",
     "status": "completed"
    },
    "tags": []
   },
   "source": [
    "# Analyzing hand postures using Machine Learning"
   ]
  },
  {
   "cell_type": "markdown",
   "id": "7e2823c7",
   "metadata": {
    "papermill": {
     "duration": 0.003222,
     "end_time": "2022-07-10T12:19:50.376888",
     "exception": false,
     "start_time": "2022-07-10T12:19:50.373666",
     "status": "completed"
    },
    "tags": []
   },
   "source": [
    "> we will be using machine learning algorithms to find or segment or predict different clssess."
   ]
  },
  {
   "cell_type": "markdown",
   "id": "00abf8a4",
   "metadata": {
    "papermill": {
     "duration": 0.003297,
     "end_time": "2022-07-10T12:19:50.383726",
     "exception": false,
     "start_time": "2022-07-10T12:19:50.380429",
     "status": "completed"
    },
    "tags": []
   },
   "source": [
    "# Exploratory Data Analysis"
   ]
  },
  {
   "cell_type": "code",
   "execution_count": 1,
   "id": "e71e2529",
   "metadata": {
    "execution": {
     "iopub.execute_input": "2022-07-10T12:19:50.392601Z",
     "iopub.status.busy": "2022-07-10T12:19:50.392155Z",
     "iopub.status.idle": "2022-07-10T12:19:50.404512Z",
     "shell.execute_reply": "2022-07-10T12:19:50.403543Z"
    },
    "papermill": {
     "duration": 0.019652,
     "end_time": "2022-07-10T12:19:50.406875",
     "exception": false,
     "start_time": "2022-07-10T12:19:50.387223",
     "status": "completed"
    },
    "tags": []
   },
   "outputs": [],
   "source": [
    "import numpy as np\n",
    "import pandas as pd\n",
    "import matplotlib.pyplot as plt"
   ]
  },
  {
   "cell_type": "code",
   "execution_count": 2,
   "id": "b721ceeb",
   "metadata": {
    "execution": {
     "iopub.execute_input": "2022-07-10T12:19:50.416285Z",
     "iopub.status.busy": "2022-07-10T12:19:50.415259Z",
     "iopub.status.idle": "2022-07-10T12:19:51.847256Z",
     "shell.execute_reply": "2022-07-10T12:19:51.845869Z"
    },
    "papermill": {
     "duration": 1.439514,
     "end_time": "2022-07-10T12:19:51.850066",
     "exception": false,
     "start_time": "2022-07-10T12:19:50.410552",
     "status": "completed"
    },
    "tags": []
   },
   "outputs": [],
   "source": [
    "data = pd.read_csv(\"../input/hand-posture/Postures.csv\")"
   ]
  },
  {
   "cell_type": "code",
   "execution_count": 3,
   "id": "3435cf67",
   "metadata": {
    "execution": {
     "iopub.execute_input": "2022-07-10T12:19:51.859167Z",
     "iopub.status.busy": "2022-07-10T12:19:51.858715Z",
     "iopub.status.idle": "2022-07-10T12:19:51.896399Z",
     "shell.execute_reply": "2022-07-10T12:19:51.895264Z"
    },
    "papermill": {
     "duration": 0.045575,
     "end_time": "2022-07-10T12:19:51.899387",
     "exception": false,
     "start_time": "2022-07-10T12:19:51.853812",
     "status": "completed"
    },
    "tags": []
   },
   "outputs": [
    {
     "data": {
      "text/html": [
       "<div>\n",
       "<style scoped>\n",
       "    .dataframe tbody tr th:only-of-type {\n",
       "        vertical-align: middle;\n",
       "    }\n",
       "\n",
       "    .dataframe tbody tr th {\n",
       "        vertical-align: top;\n",
       "    }\n",
       "\n",
       "    .dataframe thead th {\n",
       "        text-align: right;\n",
       "    }\n",
       "</style>\n",
       "<table border=\"1\" class=\"dataframe\">\n",
       "  <thead>\n",
       "    <tr style=\"text-align: right;\">\n",
       "      <th></th>\n",
       "      <th>Class</th>\n",
       "      <th>User</th>\n",
       "      <th>X0</th>\n",
       "      <th>Y0</th>\n",
       "      <th>Z0</th>\n",
       "      <th>X1</th>\n",
       "      <th>Y1</th>\n",
       "      <th>Z1</th>\n",
       "      <th>X2</th>\n",
       "      <th>Y2</th>\n",
       "      <th>...</th>\n",
       "      <th>Z8</th>\n",
       "      <th>X9</th>\n",
       "      <th>Y9</th>\n",
       "      <th>Z9</th>\n",
       "      <th>X10</th>\n",
       "      <th>Y10</th>\n",
       "      <th>Z10</th>\n",
       "      <th>X11</th>\n",
       "      <th>Y11</th>\n",
       "      <th>Z11</th>\n",
       "    </tr>\n",
       "  </thead>\n",
       "  <tbody>\n",
       "    <tr>\n",
       "      <th>0</th>\n",
       "      <td>0</td>\n",
       "      <td>0</td>\n",
       "      <td>0.000000</td>\n",
       "      <td>0.000000</td>\n",
       "      <td>0.000000</td>\n",
       "      <td>0.000000</td>\n",
       "      <td>0.000000</td>\n",
       "      <td>0.000000</td>\n",
       "      <td>0.000000</td>\n",
       "      <td>0.000000</td>\n",
       "      <td>...</td>\n",
       "      <td>0</td>\n",
       "      <td>0</td>\n",
       "      <td>0</td>\n",
       "      <td>0</td>\n",
       "      <td>0</td>\n",
       "      <td>0</td>\n",
       "      <td>0</td>\n",
       "      <td>0</td>\n",
       "      <td>0</td>\n",
       "      <td>0</td>\n",
       "    </tr>\n",
       "    <tr>\n",
       "      <th>1</th>\n",
       "      <td>1</td>\n",
       "      <td>0</td>\n",
       "      <td>54.263880</td>\n",
       "      <td>71.466776</td>\n",
       "      <td>-64.807709</td>\n",
       "      <td>76.895635</td>\n",
       "      <td>42.462500</td>\n",
       "      <td>-72.780545</td>\n",
       "      <td>36.621229</td>\n",
       "      <td>81.680557</td>\n",
       "      <td>...</td>\n",
       "      <td>?</td>\n",
       "      <td>?</td>\n",
       "      <td>?</td>\n",
       "      <td>?</td>\n",
       "      <td>?</td>\n",
       "      <td>?</td>\n",
       "      <td>?</td>\n",
       "      <td>?</td>\n",
       "      <td>?</td>\n",
       "      <td>?</td>\n",
       "    </tr>\n",
       "    <tr>\n",
       "      <th>2</th>\n",
       "      <td>1</td>\n",
       "      <td>0</td>\n",
       "      <td>56.527558</td>\n",
       "      <td>72.266609</td>\n",
       "      <td>-61.935252</td>\n",
       "      <td>39.135978</td>\n",
       "      <td>82.538530</td>\n",
       "      <td>-49.596509</td>\n",
       "      <td>79.223743</td>\n",
       "      <td>43.254091</td>\n",
       "      <td>...</td>\n",
       "      <td>?</td>\n",
       "      <td>?</td>\n",
       "      <td>?</td>\n",
       "      <td>?</td>\n",
       "      <td>?</td>\n",
       "      <td>?</td>\n",
       "      <td>?</td>\n",
       "      <td>?</td>\n",
       "      <td>?</td>\n",
       "      <td>?</td>\n",
       "    </tr>\n",
       "    <tr>\n",
       "      <th>3</th>\n",
       "      <td>1</td>\n",
       "      <td>0</td>\n",
       "      <td>55.849928</td>\n",
       "      <td>72.469064</td>\n",
       "      <td>-62.562788</td>\n",
       "      <td>37.988804</td>\n",
       "      <td>82.631347</td>\n",
       "      <td>-50.606259</td>\n",
       "      <td>78.451526</td>\n",
       "      <td>43.567403</td>\n",
       "      <td>...</td>\n",
       "      <td>?</td>\n",
       "      <td>?</td>\n",
       "      <td>?</td>\n",
       "      <td>?</td>\n",
       "      <td>?</td>\n",
       "      <td>?</td>\n",
       "      <td>?</td>\n",
       "      <td>?</td>\n",
       "      <td>?</td>\n",
       "      <td>?</td>\n",
       "    </tr>\n",
       "    <tr>\n",
       "      <th>4</th>\n",
       "      <td>1</td>\n",
       "      <td>0</td>\n",
       "      <td>55.329647</td>\n",
       "      <td>71.707275</td>\n",
       "      <td>-63.688956</td>\n",
       "      <td>36.561863</td>\n",
       "      <td>81.868749</td>\n",
       "      <td>-52.752784</td>\n",
       "      <td>86.320630</td>\n",
       "      <td>68.214645</td>\n",
       "      <td>...</td>\n",
       "      <td>?</td>\n",
       "      <td>?</td>\n",
       "      <td>?</td>\n",
       "      <td>?</td>\n",
       "      <td>?</td>\n",
       "      <td>?</td>\n",
       "      <td>?</td>\n",
       "      <td>?</td>\n",
       "      <td>?</td>\n",
       "      <td>?</td>\n",
       "    </tr>\n",
       "  </tbody>\n",
       "</table>\n",
       "<p>5 rows × 38 columns</p>\n",
       "</div>"
      ],
      "text/plain": [
       "   Class  User         X0         Y0         Z0         X1         Y1  \\\n",
       "0      0     0   0.000000   0.000000   0.000000   0.000000   0.000000   \n",
       "1      1     0  54.263880  71.466776 -64.807709  76.895635  42.462500   \n",
       "2      1     0  56.527558  72.266609 -61.935252  39.135978  82.538530   \n",
       "3      1     0  55.849928  72.469064 -62.562788  37.988804  82.631347   \n",
       "4      1     0  55.329647  71.707275 -63.688956  36.561863  81.868749   \n",
       "\n",
       "          Z1         X2         Y2  ...  Z8 X9 Y9 Z9 X10 Y10 Z10 X11 Y11 Z11  \n",
       "0   0.000000   0.000000   0.000000  ...   0  0  0  0   0   0   0   0   0   0  \n",
       "1 -72.780545  36.621229  81.680557  ...   ?  ?  ?  ?   ?   ?   ?   ?   ?   ?  \n",
       "2 -49.596509  79.223743  43.254091  ...   ?  ?  ?  ?   ?   ?   ?   ?   ?   ?  \n",
       "3 -50.606259  78.451526  43.567403  ...   ?  ?  ?  ?   ?   ?   ?   ?   ?   ?  \n",
       "4 -52.752784  86.320630  68.214645  ...   ?  ?  ?  ?   ?   ?   ?   ?   ?   ?  \n",
       "\n",
       "[5 rows x 38 columns]"
      ]
     },
     "execution_count": 3,
     "metadata": {},
     "output_type": "execute_result"
    }
   ],
   "source": [
    "data.head()"
   ]
  },
  {
   "cell_type": "code",
   "execution_count": 4,
   "id": "64f01509",
   "metadata": {
    "execution": {
     "iopub.execute_input": "2022-07-10T12:19:51.909155Z",
     "iopub.status.busy": "2022-07-10T12:19:51.908800Z",
     "iopub.status.idle": "2022-07-10T12:19:51.995807Z",
     "shell.execute_reply": "2022-07-10T12:19:51.994629Z"
    },
    "papermill": {
     "duration": 0.095861,
     "end_time": "2022-07-10T12:19:51.999515",
     "exception": false,
     "start_time": "2022-07-10T12:19:51.903654",
     "status": "completed"
    },
    "tags": []
   },
   "outputs": [
    {
     "data": {
      "text/html": [
       "<div>\n",
       "<style scoped>\n",
       "    .dataframe tbody tr th:only-of-type {\n",
       "        vertical-align: middle;\n",
       "    }\n",
       "\n",
       "    .dataframe tbody tr th {\n",
       "        vertical-align: top;\n",
       "    }\n",
       "\n",
       "    .dataframe thead th {\n",
       "        text-align: right;\n",
       "    }\n",
       "</style>\n",
       "<table border=\"1\" class=\"dataframe\">\n",
       "  <thead>\n",
       "    <tr style=\"text-align: right;\">\n",
       "      <th></th>\n",
       "      <th>Class</th>\n",
       "      <th>User</th>\n",
       "      <th>X0</th>\n",
       "      <th>Y0</th>\n",
       "      <th>Z0</th>\n",
       "      <th>X1</th>\n",
       "      <th>Y1</th>\n",
       "      <th>Z1</th>\n",
       "      <th>X2</th>\n",
       "      <th>Y2</th>\n",
       "      <th>Z2</th>\n",
       "    </tr>\n",
       "  </thead>\n",
       "  <tbody>\n",
       "    <tr>\n",
       "      <th>count</th>\n",
       "      <td>78096.000000</td>\n",
       "      <td>78096.000000</td>\n",
       "      <td>78096.000000</td>\n",
       "      <td>78096.000000</td>\n",
       "      <td>78096.000000</td>\n",
       "      <td>78096.000000</td>\n",
       "      <td>78096.000000</td>\n",
       "      <td>78096.000000</td>\n",
       "      <td>78096.000000</td>\n",
       "      <td>78096.000000</td>\n",
       "      <td>78096.000000</td>\n",
       "    </tr>\n",
       "    <tr>\n",
       "      <th>mean</th>\n",
       "      <td>2.983738</td>\n",
       "      <td>7.959127</td>\n",
       "      <td>50.345664</td>\n",
       "      <td>85.812051</td>\n",
       "      <td>-29.984712</td>\n",
       "      <td>49.595209</td>\n",
       "      <td>86.192647</td>\n",
       "      <td>-29.509202</td>\n",
       "      <td>48.612121</td>\n",
       "      <td>83.771315</td>\n",
       "      <td>-30.560515</td>\n",
       "    </tr>\n",
       "    <tr>\n",
       "      <th>std</th>\n",
       "      <td>1.421183</td>\n",
       "      <td>4.697810</td>\n",
       "      <td>32.696173</td>\n",
       "      <td>40.204363</td>\n",
       "      <td>34.361918</td>\n",
       "      <td>32.478238</td>\n",
       "      <td>40.453214</td>\n",
       "      <td>34.764398</td>\n",
       "      <td>33.605390</td>\n",
       "      <td>41.023543</td>\n",
       "      <td>35.120329</td>\n",
       "    </tr>\n",
       "    <tr>\n",
       "      <th>min</th>\n",
       "      <td>0.000000</td>\n",
       "      <td>0.000000</td>\n",
       "      <td>-108.552738</td>\n",
       "      <td>-98.233756</td>\n",
       "      <td>-126.770872</td>\n",
       "      <td>-111.685241</td>\n",
       "      <td>-96.142589</td>\n",
       "      <td>-166.006838</td>\n",
       "      <td>-106.886524</td>\n",
       "      <td>-100.789312</td>\n",
       "      <td>-129.595296</td>\n",
       "    </tr>\n",
       "    <tr>\n",
       "      <th>25%</th>\n",
       "      <td>2.000000</td>\n",
       "      <td>5.000000</td>\n",
       "      <td>29.295062</td>\n",
       "      <td>63.494432</td>\n",
       "      <td>-56.356438</td>\n",
       "      <td>28.755137</td>\n",
       "      <td>64.154529</td>\n",
       "      <td>-57.360107</td>\n",
       "      <td>25.170006</td>\n",
       "      <td>58.052385</td>\n",
       "      <td>-58.654059</td>\n",
       "    </tr>\n",
       "    <tr>\n",
       "      <th>50%</th>\n",
       "      <td>3.000000</td>\n",
       "      <td>9.000000</td>\n",
       "      <td>54.619964</td>\n",
       "      <td>86.526246</td>\n",
       "      <td>-30.864125</td>\n",
       "      <td>54.215514</td>\n",
       "      <td>87.542751</td>\n",
       "      <td>-30.184005</td>\n",
       "      <td>53.814580</td>\n",
       "      <td>86.458324</td>\n",
       "      <td>-32.352414</td>\n",
       "    </tr>\n",
       "    <tr>\n",
       "      <th>75%</th>\n",
       "      <td>4.000000</td>\n",
       "      <td>12.000000</td>\n",
       "      <td>72.488686</td>\n",
       "      <td>113.107355</td>\n",
       "      <td>-1.418803</td>\n",
       "      <td>71.762039</td>\n",
       "      <td>116.219398</td>\n",
       "      <td>-0.366692</td>\n",
       "      <td>71.561951</td>\n",
       "      <td>106.660827</td>\n",
       "      <td>-0.944786</td>\n",
       "    </tr>\n",
       "    <tr>\n",
       "      <th>max</th>\n",
       "      <td>5.000000</td>\n",
       "      <td>14.000000</td>\n",
       "      <td>190.017835</td>\n",
       "      <td>169.175464</td>\n",
       "      <td>113.345119</td>\n",
       "      <td>188.691997</td>\n",
       "      <td>170.209350</td>\n",
       "      <td>104.697852</td>\n",
       "      <td>188.760168</td>\n",
       "      <td>168.186466</td>\n",
       "      <td>104.590879</td>\n",
       "    </tr>\n",
       "  </tbody>\n",
       "</table>\n",
       "</div>"
      ],
      "text/plain": [
       "              Class          User            X0            Y0            Z0  \\\n",
       "count  78096.000000  78096.000000  78096.000000  78096.000000  78096.000000   \n",
       "mean       2.983738      7.959127     50.345664     85.812051    -29.984712   \n",
       "std        1.421183      4.697810     32.696173     40.204363     34.361918   \n",
       "min        0.000000      0.000000   -108.552738    -98.233756   -126.770872   \n",
       "25%        2.000000      5.000000     29.295062     63.494432    -56.356438   \n",
       "50%        3.000000      9.000000     54.619964     86.526246    -30.864125   \n",
       "75%        4.000000     12.000000     72.488686    113.107355     -1.418803   \n",
       "max        5.000000     14.000000    190.017835    169.175464    113.345119   \n",
       "\n",
       "                 X1            Y1            Z1            X2            Y2  \\\n",
       "count  78096.000000  78096.000000  78096.000000  78096.000000  78096.000000   \n",
       "mean      49.595209     86.192647    -29.509202     48.612121     83.771315   \n",
       "std       32.478238     40.453214     34.764398     33.605390     41.023543   \n",
       "min     -111.685241    -96.142589   -166.006838   -106.886524   -100.789312   \n",
       "25%       28.755137     64.154529    -57.360107     25.170006     58.052385   \n",
       "50%       54.215514     87.542751    -30.184005     53.814580     86.458324   \n",
       "75%       71.762039    116.219398     -0.366692     71.561951    106.660827   \n",
       "max      188.691997    170.209350    104.697852    188.760168    168.186466   \n",
       "\n",
       "                 Z2  \n",
       "count  78096.000000  \n",
       "mean     -30.560515  \n",
       "std       35.120329  \n",
       "min     -129.595296  \n",
       "25%      -58.654059  \n",
       "50%      -32.352414  \n",
       "75%       -0.944786  \n",
       "max      104.590879  "
      ]
     },
     "execution_count": 4,
     "metadata": {},
     "output_type": "execute_result"
    }
   ],
   "source": [
    "data.describe()"
   ]
  },
  {
   "cell_type": "code",
   "execution_count": 5,
   "id": "303d0c6f",
   "metadata": {
    "execution": {
     "iopub.execute_input": "2022-07-10T12:19:52.010155Z",
     "iopub.status.busy": "2022-07-10T12:19:52.009746Z",
     "iopub.status.idle": "2022-07-10T12:19:52.252647Z",
     "shell.execute_reply": "2022-07-10T12:19:52.251213Z"
    },
    "papermill": {
     "duration": 0.251556,
     "end_time": "2022-07-10T12:19:52.255578",
     "exception": false,
     "start_time": "2022-07-10T12:19:52.004022",
     "status": "completed"
    },
    "tags": []
   },
   "outputs": [
    {
     "name": "stdout",
     "output_type": "stream",
     "text": [
      "<class 'pandas.core.frame.DataFrame'>\n",
      "RangeIndex: 78096 entries, 0 to 78095\n",
      "Data columns (total 38 columns):\n",
      " #   Column  Non-Null Count  Dtype  \n",
      "---  ------  --------------  -----  \n",
      " 0   Class   78096 non-null  int64  \n",
      " 1   User    78096 non-null  int64  \n",
      " 2   X0      78096 non-null  float64\n",
      " 3   Y0      78096 non-null  float64\n",
      " 4   Z0      78096 non-null  float64\n",
      " 5   X1      78096 non-null  float64\n",
      " 6   Y1      78096 non-null  float64\n",
      " 7   Z1      78096 non-null  float64\n",
      " 8   X2      78096 non-null  float64\n",
      " 9   Y2      78096 non-null  float64\n",
      " 10  Z2      78096 non-null  float64\n",
      " 11  X3      78096 non-null  object \n",
      " 12  Y3      78096 non-null  object \n",
      " 13  Z3      78096 non-null  object \n",
      " 14  X4      78096 non-null  object \n",
      " 15  Y4      78096 non-null  object \n",
      " 16  Z4      78096 non-null  object \n",
      " 17  X5      78096 non-null  object \n",
      " 18  Y5      78096 non-null  object \n",
      " 19  Z5      78096 non-null  object \n",
      " 20  X6      78096 non-null  object \n",
      " 21  Y6      78096 non-null  object \n",
      " 22  Z6      78096 non-null  object \n",
      " 23  X7      78096 non-null  object \n",
      " 24  Y7      78096 non-null  object \n",
      " 25  Z7      78096 non-null  object \n",
      " 26  X8      78096 non-null  object \n",
      " 27  Y8      78096 non-null  object \n",
      " 28  Z8      78096 non-null  object \n",
      " 29  X9      78096 non-null  object \n",
      " 30  Y9      78096 non-null  object \n",
      " 31  Z9      78096 non-null  object \n",
      " 32  X10     78096 non-null  object \n",
      " 33  Y10     78096 non-null  object \n",
      " 34  Z10     78096 non-null  object \n",
      " 35  X11     78096 non-null  object \n",
      " 36  Y11     78096 non-null  object \n",
      " 37  Z11     78096 non-null  object \n",
      "dtypes: float64(9), int64(2), object(27)\n",
      "memory usage: 22.6+ MB\n"
     ]
    }
   ],
   "source": [
    "data.info()"
   ]
  },
  {
   "cell_type": "code",
   "execution_count": 6,
   "id": "3f8f99b4",
   "metadata": {
    "execution": {
     "iopub.execute_input": "2022-07-10T12:19:52.266558Z",
     "iopub.status.busy": "2022-07-10T12:19:52.265670Z",
     "iopub.status.idle": "2022-07-10T12:19:52.272713Z",
     "shell.execute_reply": "2022-07-10T12:19:52.271538Z"
    },
    "papermill": {
     "duration": 0.014864,
     "end_time": "2022-07-10T12:19:52.274907",
     "exception": false,
     "start_time": "2022-07-10T12:19:52.260043",
     "status": "completed"
    },
    "tags": []
   },
   "outputs": [
    {
     "data": {
      "text/plain": [
       "(78096, 38)"
      ]
     },
     "execution_count": 6,
     "metadata": {},
     "output_type": "execute_result"
    }
   ],
   "source": [
    "data.shape"
   ]
  },
  {
   "cell_type": "code",
   "execution_count": 7,
   "id": "c6dc1c42",
   "metadata": {
    "execution": {
     "iopub.execute_input": "2022-07-10T12:19:52.286155Z",
     "iopub.status.busy": "2022-07-10T12:19:52.285533Z",
     "iopub.status.idle": "2022-07-10T12:19:52.518424Z",
     "shell.execute_reply": "2022-07-10T12:19:52.517312Z"
    },
    "papermill": {
     "duration": 0.241419,
     "end_time": "2022-07-10T12:19:52.520941",
     "exception": false,
     "start_time": "2022-07-10T12:19:52.279522",
     "status": "completed"
    },
    "tags": []
   },
   "outputs": [
    {
     "data": {
      "text/plain": [
       "Class    0\n",
       "User     0\n",
       "X0       0\n",
       "Y0       0\n",
       "Z0       0\n",
       "X1       0\n",
       "Y1       0\n",
       "Z1       0\n",
       "X2       0\n",
       "Y2       0\n",
       "Z2       0\n",
       "X3       0\n",
       "Y3       0\n",
       "Z3       0\n",
       "X4       0\n",
       "Y4       0\n",
       "Z4       0\n",
       "X5       0\n",
       "Y5       0\n",
       "Z5       0\n",
       "X6       0\n",
       "Y6       0\n",
       "Z6       0\n",
       "X7       0\n",
       "Y7       0\n",
       "Z7       0\n",
       "X8       0\n",
       "Y8       0\n",
       "Z8       0\n",
       "X9       0\n",
       "Y9       0\n",
       "Z9       0\n",
       "X10      0\n",
       "Y10      0\n",
       "Z10      0\n",
       "X11      0\n",
       "Y11      0\n",
       "Z11      0\n",
       "dtype: int64"
      ]
     },
     "execution_count": 7,
     "metadata": {},
     "output_type": "execute_result"
    }
   ],
   "source": [
    "data.isnull().sum() #as we can see that there are no null values present in out dataaset"
   ]
  },
  {
   "cell_type": "code",
   "execution_count": null,
   "id": "4698d66a",
   "metadata": {
    "execution": {
     "iopub.execute_input": "2022-07-10T12:18:39.220398Z",
     "iopub.status.busy": "2022-07-10T12:18:39.219618Z",
     "iopub.status.idle": "2022-07-10T12:18:39.242016Z",
     "shell.execute_reply": "2022-07-10T12:18:39.240541Z",
     "shell.execute_reply.started": "2022-07-10T12:18:39.220352Z"
    },
    "papermill": {
     "duration": 0.004421,
     "end_time": "2022-07-10T12:19:52.530192",
     "exception": false,
     "start_time": "2022-07-10T12:19:52.525771",
     "status": "completed"
    },
    "tags": []
   },
   "outputs": [],
   "source": []
  }
 ],
 "metadata": {
  "kernelspec": {
   "display_name": "Python 3",
   "language": "python",
   "name": "python3"
  },
  "language_info": {
   "codemirror_mode": {
    "name": "ipython",
    "version": 3
   },
   "file_extension": ".py",
   "mimetype": "text/x-python",
   "name": "python",
   "nbconvert_exporter": "python",
   "pygments_lexer": "ipython3",
   "version": "3.7.12"
  },
  "papermill": {
   "default_parameters": {},
   "duration": 13.429198,
   "end_time": "2022-07-10T12:19:53.256579",
   "environment_variables": {},
   "exception": null,
   "input_path": "__notebook__.ipynb",
   "output_path": "__notebook__.ipynb",
   "parameters": {},
   "start_time": "2022-07-10T12:19:39.827381",
   "version": "2.3.4"
  }
 },
 "nbformat": 4,
 "nbformat_minor": 5
}
